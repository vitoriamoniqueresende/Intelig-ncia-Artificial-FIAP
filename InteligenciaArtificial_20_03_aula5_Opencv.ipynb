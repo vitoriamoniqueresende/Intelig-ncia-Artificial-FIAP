{
  "nbformat": 4,
  "nbformat_minor": 0,
  "metadata": {
    "colab": {
      "provenance": [],
      "include_colab_link": true
    },
    "kernelspec": {
      "name": "python3",
      "display_name": "Python 3"
    },
    "language_info": {
      "name": "python"
    }
  },
  "cells": [
    {
      "cell_type": "markdown",
      "metadata": {
        "id": "view-in-github",
        "colab_type": "text"
      },
      "source": [
        "<a href=\"https://colab.research.google.com/github/vitoriamoniqueresende/Intelig-ncia-Artificial-FIAP/blob/main/InteligenciaArtificial_20_03_aula5_Opencv.ipynb\" target=\"_parent\"><img src=\"https://colab.research.google.com/assets/colab-badge.svg\" alt=\"Open In Colab\"/></a>"
      ]
    },
    {
      "cell_type": "code",
      "execution_count": null,
      "metadata": {
        "id": "FgR9GMUYsnE1"
      },
      "outputs": [],
      "source": [
        "import cv2\n",
        "import numpy as np\n",
        "from matplotlib import pyplot as plt"
      ]
    },
    {
      "cell_type": "code",
      "source": [
        "# Utilizando o Numpy, crie um array de zeros com 8 linhas e 5 colunas.\n",
        "# Dica: Utilize np.zeros() para criar o array.\n",
        "# Printe o array de zeros.\n",
        "\n",
        "array_zeros = np.zeros((8,5, 3), dtype=np.uint8)\n",
        "array_zeros"
      ],
      "metadata": {
        "id": "djwCmR4OszWd",
        "colab": {
          "base_uri": "https://localhost:8080/"
        },
        "outputId": "c59dbb83-48e9-46b0-8e0c-b27b79c0fede"
      },
      "execution_count": null,
      "outputs": [
        {
          "output_type": "execute_result",
          "data": {
            "text/plain": [
              "array([[[0, 0, 0],\n",
              "        [0, 0, 0],\n",
              "        [0, 0, 0],\n",
              "        [0, 0, 0],\n",
              "        [0, 0, 0]],\n",
              "\n",
              "       [[0, 0, 0],\n",
              "        [0, 0, 0],\n",
              "        [0, 0, 0],\n",
              "        [0, 0, 0],\n",
              "        [0, 0, 0]],\n",
              "\n",
              "       [[0, 0, 0],\n",
              "        [0, 0, 0],\n",
              "        [0, 0, 0],\n",
              "        [0, 0, 0],\n",
              "        [0, 0, 0]],\n",
              "\n",
              "       [[0, 0, 0],\n",
              "        [0, 0, 0],\n",
              "        [0, 0, 0],\n",
              "        [0, 0, 0],\n",
              "        [0, 0, 0]],\n",
              "\n",
              "       [[0, 0, 0],\n",
              "        [0, 0, 0],\n",
              "        [0, 0, 0],\n",
              "        [0, 0, 0],\n",
              "        [0, 0, 0]],\n",
              "\n",
              "       [[0, 0, 0],\n",
              "        [0, 0, 0],\n",
              "        [0, 0, 0],\n",
              "        [0, 0, 0],\n",
              "        [0, 0, 0]],\n",
              "\n",
              "       [[0, 0, 0],\n",
              "        [0, 0, 0],\n",
              "        [0, 0, 0],\n",
              "        [0, 0, 0],\n",
              "        [0, 0, 0]],\n",
              "\n",
              "       [[0, 0, 0],\n",
              "        [0, 0, 0],\n",
              "        [0, 0, 0],\n",
              "        [0, 0, 0],\n",
              "        [0, 0, 0]]], dtype=uint8)"
            ]
          },
          "metadata": {},
          "execution_count": 12
        }
      ]
    },
    {
      "cell_type": "code",
      "source": [
        "# Plote o array de zeros como uma imagem.\n",
        "plt.imshow(array_zeros)\n",
        "plt.show()"
      ],
      "metadata": {
        "id": "jEXrO66YtFYU",
        "colab": {
          "base_uri": "https://localhost:8080/",
          "height": 265
        },
        "outputId": "2d762a82-4557-44b5-e17f-2c0d43af8e06"
      },
      "execution_count": null,
      "outputs": [
        {
          "output_type": "display_data",
          "data": {
            "text/plain": [
              "<Figure size 432x288 with 1 Axes>"
            ],
            "image/png": "[encoded data removed]"
          },
          "metadata": {
            "needs_background": "light"
          }
        }
      ]
    },
    {
      "cell_type": "code",
      "source": [
        "# Redimensione a imagem gerada para 16 linhas x 10 colunas.\n",
        "nova_imagem = cv2.resize(array_zeros, (10, 16))\n",
        "# Plote o resultado.\n",
        "plt.imshow(nova_imagem)\n",
        "plt.show()"
      ],
      "metadata": {
        "id": "MO1Sm4cptRH4",
        "colab": {
          "base_uri": "https://localhost:8080/",
          "height": 265
        },
        "outputId": "65349173-931a-4c94-a49f-44e6bd00d652"
      },
      "execution_count": null,
      "outputs": [
        {
          "output_type": "display_data",
          "data": {
            "text/plain": [
              "<Figure size 432x288 with 1 Axes>"
            ],
            "image/png": "[encoded data removed]"
          },
          "metadata": {
            "needs_background": "light"
          }
        }
      ]
    },
    {
      "cell_type": "code",
      "source": [
        "b, g, r = nova_imagem[4, 4]"
      ],
      "metadata": {
        "id": "R-hKa8tzuEYS"
      },
      "execution_count": null,
      "outputs": []
    },
    {
      "cell_type": "code",
      "source": [
        "nova_imagem.shape"
      ],
      "metadata": {
        "id": "z44jyOArt5Mb",
        "colab": {
          "base_uri": "https://localhost:8080/"
        },
        "outputId": "729c2a13-cfe5-4721-a2eb-091f623f2c34"
      },
      "execution_count": null,
      "outputs": [
        {
          "output_type": "execute_result",
          "data": {
            "text/plain": [
              "(16, 10, 3)"
            ]
          },
          "metadata": {},
          "execution_count": 16
        }
      ]
    },
    {
      "cell_type": "code",
      "source": [
        "# linhas:\n",
        "nova_imagem.shape[0]"
      ],
      "metadata": {
        "id": "qPgei50Qv2sQ",
        "colab": {
          "base_uri": "https://localhost:8080/"
        },
        "outputId": "dc03ab83-be35-4b97-e11c-5b57dc2475a7"
      },
      "execution_count": null,
      "outputs": [
        {
          "output_type": "execute_result",
          "data": {
            "text/plain": [
              "16"
            ]
          },
          "metadata": {},
          "execution_count": 17
        }
      ]
    },
    {
      "cell_type": "code",
      "source": [
        "# colunas:\n",
        "nova_imagem.shape[1]"
      ],
      "metadata": {
        "id": "5pWtSXKzvtPs",
        "colab": {
          "base_uri": "https://localhost:8080/"
        },
        "outputId": "755caf49-de08-4afa-9272-133ae0676be8"
      },
      "execution_count": null,
      "outputs": [
        {
          "output_type": "execute_result",
          "data": {
            "text/plain": [
              "10"
            ]
          },
          "metadata": {},
          "execution_count": 18
        }
      ]
    },
    {
      "cell_type": "code",
      "source": [
        "for y in range(0, nova_imagem.shape[0]):\n",
        "  for x in range(0, nova_imagem.shape[1]):\n",
        "    b, g, r = nova_imagem[y, x]\n",
        "    print(f'O pixel [{y}, {x}]: tem R: {r}, G: {g} e B: {b}')"
      ],
      "metadata": {
        "id": "MHMCb-yct9IT",
        "colab": {
          "base_uri": "https://localhost:8080/"
        },
        "outputId": "7ef1bf29-27c0-4cc8-de37-2a42be6a6beb"
      },
      "execution_count": null,
      "outputs": [
        {
          "output_type": "stream",
          "name": "stdout",
          "text": [
            "O pixel [0, 0]: tem R: 0, G: 0 e B: 0\n",
            "O pixel [0, 1]: tem R: 0, G: 0 e B: 0\n",
            "O pixel [0, 2]: tem R: 0, G: 0 e B: 0\n",
            "O pixel [0, 3]: tem R: 0, G: 0 e B: 0\n",
            "O pixel [0, 4]: tem R: 0, G: 0 e B: 0\n",
            "O pixel [0, 5]: tem R: 0, G: 0 e B: 0\n",
            "O pixel [0, 6]: tem R: 0, G: 0 e B: 0\n",
            "O pixel [0, 7]: tem R: 0, G: 0 e B: 0\n",
            "O pixel [0, 8]: tem R: 0, G: 0 e B: 0\n",
            "O pixel [0, 9]: tem R: 0, G: 0 e B: 0\n",
            "O pixel [1, 0]: tem R: 0, G: 0 e B: 0\n",
            "O pixel [1, 1]: tem R: 0, G: 0 e B: 0\n",
            "O pixel [1, 2]: tem R: 0, G: 0 e B: 0\n",
            "O pixel [1, 3]: tem R: 0, G: 0 e B: 0\n",
            "O pixel [1, 4]: tem R: 0, G: 0 e B: 0\n",
            "O pixel [1, 5]: tem R: 0, G: 0 e B: 0\n",
            "O pixel [1, 6]: tem R: 0, G: 0 e B: 0\n",
            "O pixel [1, 7]: tem R: 0, G: 0 e B: 0\n",
            "O pixel [1, 8]: tem R: 0, G: 0 e B: 0\n",
            "O pixel [1, 9]: tem R: 0, G: 0 e B: 0\n",
            "O pixel [2, 0]: tem R: 0, G: 0 e B: 0\n",
            "O pixel [2, 1]: tem R: 0, G: 0 e B: 0\n",
            "O pixel [2, 2]: tem R: 0, G: 0 e B: 0\n",
            "O pixel [2, 3]: tem R: 0, G: 0 e B: 0\n",
            "O pixel [2, 4]: tem R: 0, G: 0 e B: 0\n",
            "O pixel [2, 5]: tem R: 0, G: 0 e B: 0\n",
            "O pixel [2, 6]: tem R: 0, G: 0 e B: 0\n",
            "O pixel [2, 7]: tem R: 0, G: 0 e B: 0\n",
            "O pixel [2, 8]: tem R: 0, G: 0 e B: 0\n",
            "O pixel [2, 9]: tem R: 0, G: 0 e B: 0\n",
            "O pixel [3, 0]: tem R: 0, G: 0 e B: 0\n",
            "O pixel [3, 1]: tem R: 0, G: 0 e B: 0\n",
            "O pixel [3, 2]: tem R: 0, G: 0 e B: 0\n",
            "O pixel [3, 3]: tem R: 0, G: 0 e B: 0\n",
            "O pixel [3, 4]: tem R: 0, G: 0 e B: 0\n",
            "O pixel [3, 5]: tem R: 0, G: 0 e B: 0\n",
            "O pixel [3, 6]: tem R: 0, G: 0 e B: 0\n",
            "O pixel [3, 7]: tem R: 0, G: 0 e B: 0\n",
            "O pixel [3, 8]: tem R: 0, G: 0 e B: 0\n",
            "O pixel [3, 9]: tem R: 0, G: 0 e B: 0\n",
            "O pixel [4, 0]: tem R: 0, G: 0 e B: 0\n",
            "O pixel [4, 1]: tem R: 0, G: 0 e B: 0\n",
            "O pixel [4, 2]: tem R: 0, G: 0 e B: 0\n",
            "O pixel [4, 3]: tem R: 0, G: 0 e B: 0\n",
            "O pixel [4, 4]: tem R: 0, G: 0 e B: 0\n",
            "O pixel [4, 5]: tem R: 0, G: 0 e B: 0\n",
            "O pixel [4, 6]: tem R: 0, G: 0 e B: 0\n",
            "O pixel [4, 7]: tem R: 0, G: 0 e B: 0\n",
            "O pixel [4, 8]: tem R: 0, G: 0 e B: 0\n",
            "O pixel [4, 9]: tem R: 0, G: 0 e B: 0\n",
            "O pixel [5, 0]: tem R: 0, G: 0 e B: 0\n",
            "O pixel [5, 1]: tem R: 0, G: 0 e B: 0\n",
            "O pixel [5, 2]: tem R: 0, G: 0 e B: 0\n",
            "O pixel [5, 3]: tem R: 0, G: 0 e B: 0\n",
            "O pixel [5, 4]: tem R: 0, G: 0 e B: 0\n",
            "O pixel [5, 5]: tem R: 0, G: 0 e B: 0\n",
            "O pixel [5, 6]: tem R: 0, G: 0 e B: 0\n",
            "O pixel [5, 7]: tem R: 0, G: 0 e B: 0\n",
            "O pixel [5, 8]: tem R: 0, G: 0 e B: 0\n",
            "O pixel [5, 9]: tem R: 0, G: 0 e B: 0\n",
            "O pixel [6, 0]: tem R: 0, G: 0 e B: 0\n",
            "O pixel [6, 1]: tem R: 0, G: 0 e B: 0\n",
            "O pixel [6, 2]: tem R: 0, G: 0 e B: 0\n",
            "O pixel [6, 3]: tem R: 0, G: 0 e B: 0\n",
            "O pixel [6, 4]: tem R: 0, G: 0 e B: 0\n",
            "O pixel [6, 5]: tem R: 0, G: 0 e B: 0\n",
            "O pixel [6, 6]: tem R: 0, G: 0 e B: 0\n",
            "O pixel [6, 7]: tem R: 0, G: 0 e B: 0\n",
            "O pixel [6, 8]: tem R: 0, G: 0 e B: 0\n",
            "O pixel [6, 9]: tem R: 0, G: 0 e B: 0\n",
            "O pixel [7, 0]: tem R: 0, G: 0 e B: 0\n",
            "O pixel [7, 1]: tem R: 0, G: 0 e B: 0\n",
            "O pixel [7, 2]: tem R: 0, G: 0 e B: 0\n",
            "O pixel [7, 3]: tem R: 0, G: 0 e B: 0\n",
            "O pixel [7, 4]: tem R: 0, G: 0 e B: 0\n",
            "O pixel [7, 5]: tem R: 0, G: 0 e B: 0\n",
            "O pixel [7, 6]: tem R: 0, G: 0 e B: 0\n",
            "O pixel [7, 7]: tem R: 0, G: 0 e B: 0\n",
            "O pixel [7, 8]: tem R: 0, G: 0 e B: 0\n",
            "O pixel [7, 9]: tem R: 0, G: 0 e B: 0\n",
            "O pixel [8, 0]: tem R: 0, G: 0 e B: 0\n",
            "O pixel [8, 1]: tem R: 0, G: 0 e B: 0\n",
            "O pixel [8, 2]: tem R: 0, G: 0 e B: 0\n",
            "O pixel [8, 3]: tem R: 0, G: 0 e B: 0\n",
            "O pixel [8, 4]: tem R: 0, G: 0 e B: 0\n",
            "O pixel [8, 5]: tem R: 0, G: 0 e B: 0\n",
            "O pixel [8, 6]: tem R: 0, G: 0 e B: 0\n",
            "O pixel [8, 7]: tem R: 0, G: 0 e B: 0\n",
            "O pixel [8, 8]: tem R: 0, G: 0 e B: 0\n",
            "O pixel [8, 9]: tem R: 0, G: 0 e B: 0\n",
            "O pixel [9, 0]: tem R: 0, G: 0 e B: 0\n",
            "O pixel [9, 1]: tem R: 0, G: 0 e B: 0\n",
            "O pixel [9, 2]: tem R: 0, G: 0 e B: 0\n",
            "O pixel [9, 3]: tem R: 0, G: 0 e B: 0\n",
            "O pixel [9, 4]: tem R: 0, G: 0 e B: 0\n",
            "O pixel [9, 5]: tem R: 0, G: 0 e B: 0\n",
            "O pixel [9, 6]: tem R: 0, G: 0 e B: 0\n",
            "O pixel [9, 7]: tem R: 0, G: 0 e B: 0\n",
            "O pixel [9, 8]: tem R: 0, G: 0 e B: 0\n",
            "O pixel [9, 9]: tem R: 0, G: 0 e B: 0\n",
            "O pixel [10, 0]: tem R: 0, G: 0 e B: 0\n",
            "O pixel [10, 1]: tem R: 0, G: 0 e B: 0\n",
            "O pixel [10, 2]: tem R: 0, G: 0 e B: 0\n",
            "O pixel [10, 3]: tem R: 0, G: 0 e B: 0\n",
            "O pixel [10, 4]: tem R: 0, G: 0 e B: 0\n",
            "O pixel [10, 5]: tem R: 0, G: 0 e B: 0\n",
            "O pixel [10, 6]: tem R: 0, G: 0 e B: 0\n",
            "O pixel [10, 7]: tem R: 0, G: 0 e B: 0\n",
            "O pixel [10, 8]: tem R: 0, G: 0 e B: 0\n",
            "O pixel [10, 9]: tem R: 0, G: 0 e B: 0\n",
            "O pixel [11, 0]: tem R: 0, G: 0 e B: 0\n",
            "O pixel [11, 1]: tem R: 0, G: 0 e B: 0\n",
            "O pixel [11, 2]: tem R: 0, G: 0 e B: 0\n",
            "O pixel [11, 3]: tem R: 0, G: 0 e B: 0\n",
            "O pixel [11, 4]: tem R: 0, G: 0 e B: 0\n",
            "O pixel [11, 5]: tem R: 0, G: 0 e B: 0\n",
            "O pixel [11, 6]: tem R: 0, G: 0 e B: 0\n",
            "O pixel [11, 7]: tem R: 0, G: 0 e B: 0\n",
            "O pixel [11, 8]: tem R: 0, G: 0 e B: 0\n",
            "O pixel [11, 9]: tem R: 0, G: 0 e B: 0\n",
            "O pixel [12, 0]: tem R: 0, G: 0 e B: 0\n",
            "O pixel [12, 1]: tem R: 0, G: 0 e B: 0\n",
            "O pixel [12, 2]: tem R: 0, G: 0 e B: 0\n",
            "O pixel [12, 3]: tem R: 0, G: 0 e B: 0\n",
            "O pixel [12, 4]: tem R: 0, G: 0 e B: 0\n",
            "O pixel [12, 5]: tem R: 0, G: 0 e B: 0\n",
            "O pixel [12, 6]: tem R: 0, G: 0 e B: 0\n",
            "O pixel [12, 7]: tem R: 0, G: 0 e B: 0\n",
            "O pixel [12, 8]: tem R: 0, G: 0 e B: 0\n",
            "O pixel [12, 9]: tem R: 0, G: 0 e B: 0\n",
            "O pixel [13, 0]: tem R: 0, G: 0 e B: 0\n",
            "O pixel [13, 1]: tem R: 0, G: 0 e B: 0\n",
            "O pixel [13, 2]: tem R: 0, G: 0 e B: 0\n",
            "O pixel [13, 3]: tem R: 0, G: 0 e B: 0\n",
            "O pixel [13, 4]: tem R: 0, G: 0 e B: 0\n",
            "O pixel [13, 5]: tem R: 0, G: 0 e B: 0\n",
            "O pixel [13, 6]: tem R: 0, G: 0 e B: 0\n",
            "O pixel [13, 7]: tem R: 0, G: 0 e B: 0\n",
            "O pixel [13, 8]: tem R: 0, G: 0 e B: 0\n",
            "O pixel [13, 9]: tem R: 0, G: 0 e B: 0\n",
            "O pixel [14, 0]: tem R: 0, G: 0 e B: 0\n",
            "O pixel [14, 1]: tem R: 0, G: 0 e B: 0\n",
            "O pixel [14, 2]: tem R: 0, G: 0 e B: 0\n",
            "O pixel [14, 3]: tem R: 0, G: 0 e B: 0\n",
            "O pixel [14, 4]: tem R: 0, G: 0 e B: 0\n",
            "O pixel [14, 5]: tem R: 0, G: 0 e B: 0\n",
            "O pixel [14, 6]: tem R: 0, G: 0 e B: 0\n",
            "O pixel [14, 7]: tem R: 0, G: 0 e B: 0\n",
            "O pixel [14, 8]: tem R: 0, G: 0 e B: 0\n",
            "O pixel [14, 9]: tem R: 0, G: 0 e B: 0\n",
            "O pixel [15, 0]: tem R: 0, G: 0 e B: 0\n",
            "O pixel [15, 1]: tem R: 0, G: 0 e B: 0\n",
            "O pixel [15, 2]: tem R: 0, G: 0 e B: 0\n",
            "O pixel [15, 3]: tem R: 0, G: 0 e B: 0\n",
            "O pixel [15, 4]: tem R: 0, G: 0 e B: 0\n",
            "O pixel [15, 5]: tem R: 0, G: 0 e B: 0\n",
            "O pixel [15, 6]: tem R: 0, G: 0 e B: 0\n",
            "O pixel [15, 7]: tem R: 0, G: 0 e B: 0\n",
            "O pixel [15, 8]: tem R: 0, G: 0 e B: 0\n",
            "O pixel [15, 9]: tem R: 0, G: 0 e B: 0\n"
          ]
        }
      ]
    }
  ]
}